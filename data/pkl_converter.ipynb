{
 "cells": [
  {
   "cell_type": "code",
   "execution_count": 2,
   "metadata": {},
   "outputs": [],
   "source": [
    "import pandas as pd\n",
    "\n",
    "# Read the CSV file into a DataFrame\n",
    "airport_data = pd.read_csv('airport_data.csv')\n",
    "\n",
    "# Save the DataFrame as a pickle file\n",
    "airport_data.to_pickle('airport_data.pkl')"
   ]
  }
 ],
 "metadata": {
  "kernelspec": {
   "display_name": "base",
   "language": "python",
   "name": "python3"
  },
  "language_info": {
   "codemirror_mode": {
    "name": "ipython",
    "version": 3
   },
   "file_extension": ".py",
   "mimetype": "text/x-python",
   "name": "python",
   "nbconvert_exporter": "python",
   "pygments_lexer": "ipython3",
   "version": "3.8.8"
  },
  "orig_nbformat": 4,
  "vscode": {
   "interpreter": {
    "hash": "feb5eed39bb8506b86de5da97e1e463fde12116c134edda351c1f955eac45a35"
   }
  }
 },
 "nbformat": 4,
 "nbformat_minor": 2
}
